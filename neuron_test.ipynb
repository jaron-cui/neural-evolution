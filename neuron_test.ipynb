{
 "cells": [
  {
   "cell_type": "code",
   "execution_count": null,
   "id": "initial_id",
   "metadata": {
    "collapsed": true
   },
   "outputs": [],
   "source": [
    "import numpy as np"
   ]
  },
  {
   "cell_type": "code",
   "outputs": [],
   "source": [
    "from torch import nn, Tensor\n",
    "from dataclasses import dataclass\n",
    "\n",
    "\n",
    "# hormone = 20 [id], \n",
    "# neuron = [activation_threshold, activation_decay, signal_multiplier, signal_delay, connection_affinity, spontaneity, ambient_hormone_release_rate, activation_hormone_release, hormone_decay_rate, hormone_range]\n",
    "#          [offsets...] x 8 max simultaneous hormone effects\n",
    "#          [decay_rates...] x 8\n",
    "#          (d x 10) NL (10 x 20) - offsets\n",
    "#          \n",
    "\n",
    "# neuron_division_matrix = (d x d)\n",
    "\n",
    "@dataclass\n",
    "class Neuron:\n",
    "  # FUNCTIONAL PARAMETERS\n",
    "  # - activation parameters\n",
    "  activation_threshold: float\n",
    "  activation_cooldown: float\n",
    "  signal_strength: float\n",
    "  mitosis_qualification: float  # when this reaches 1.0, mitosis occurs\n",
    "  # - other states\n",
    "  \n",
    "  # INTERNAL STATE\n",
    "  latent_state: Tensor  # produced exclusively by transforms defined in the genome\n",
    "  total_receptivity: float  # summed connectivity coefficients of incoming connections\n",
    "  total_emissivity: float  # summed connectivity coefficients of outgoing connections\n",
    "  \n",
    "  # HIDDEN STATE (for implementation purposes only)\n",
    "  position: Tensor  # 3d global position\n",
    "  inputs: Tensor  # (MAX_CONNECTIONS x 2), each connection includes a neuron ID and a connectivity coefficient\n",
    "  outputs: Tensor  # same structure as inputs\n",
    "  \n",
    "@dataclass\n",
    "class Genome:\n",
    "  pluripotent_latent_state: Tensor  # initial latent state for the first neuron(s)\n",
    "  latent_to_parameters: nn.Module  # takes in internal state, outputs activation parameters\n",
    "  passive_transform: nn.Module  # applied continuously\n",
    "  activation_transform: nn.Module  # takes in internal state, outputs new latent state\n",
    "  neurotransmitter_transform: nn.Module  # takes in internal state and hormone, outputs new latent state\n",
    "  connectivity_coefficient: nn.Module  # takes in internal state pair and relative position (emitter and receiver and emitter to receiver), outputs receptivity of latter [0,1]\n",
    "  mitosis_results: nn.Module  # takes in internal state, outputs new latent state and daughter latent state and mitosis direction\n",
    "  \n",
    "  # MUTABILITY\n",
    "  # ... (modules of the same dimensions as genome which define the rate of genetic drift)\n",
    "  "
   ],
   "metadata": {
    "collapsed": false
   },
   "id": "4857526b9775ed0f"
  }
 ],
 "metadata": {
  "kernelspec": {
   "display_name": "Python 3",
   "language": "python",
   "name": "python3"
  },
  "language_info": {
   "codemirror_mode": {
    "name": "ipython",
    "version": 2
   },
   "file_extension": ".py",
   "mimetype": "text/x-python",
   "name": "python",
   "nbconvert_exporter": "python",
   "pygments_lexer": "ipython2",
   "version": "2.7.6"
  }
 },
 "nbformat": 4,
 "nbformat_minor": 5
}
