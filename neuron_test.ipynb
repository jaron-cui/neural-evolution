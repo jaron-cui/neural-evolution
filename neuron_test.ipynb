{
 "cells": [
  {
   "cell_type": "code",
   "execution_count": 23,
   "id": "initial_id",
   "metadata": {
    "collapsed": true,
    "ExecuteTime": {
     "end_time": "2025-04-16T17:32:08.000999Z",
     "start_time": "2025-04-16T17:32:07.998560Z"
    }
   },
   "outputs": [],
   "source": [
    "import numpy as np"
   ]
  },
  {
   "cell_type": "code",
   "outputs": [],
   "source": [
    "from torch import nn, Tensor\n",
    "from dataclasses import dataclass\n",
    "\n",
    "\n",
    "# hormone = 20 [id], \n",
    "# neuron = [activation_threshold, activation_decay, signal_multiplier, signal_delay, connection_affinity, spontaneity, ambient_hormone_release_rate, activation_hormone_release, hormone_decay_rate, hormone_range]\n",
    "#          [offsets...] x 8 max simultaneous hormone effects\n",
    "#          [decay_rates...] x 8\n",
    "#          (d x 10) NL (10 x 20) - offsets\n",
    "#          \n",
    "\n",
    "# neuron_division_matrix = (d x d)\n",
    "\n",
    "@dataclass\n",
    "class Neuron:\n",
    "  # FUNCTIONAL PARAMETERS\n",
    "  # - activation parameters\n",
    "  activation_threshold: float  # positive\n",
    "  activation_cooldown: float  # positive\n",
    "  signal_strength: float  # can be excitatory or inhibitory (positive or negative)\n",
    "  \n",
    "  # included in internal state as well (it should be taken into account but cannot be derived solely from current internal state)\n",
    "  mitosis_qualification: float  # when this reaches 1.0, mitosis occurs. updates increment this, and it is set back to 0 upon mitosis\n",
    "  \n",
    "  # INTERNAL STATE\n",
    "  latent_state: Tensor  # produced exclusively by transforms defined in the genome\n",
    "  hormone_influence: Tensor  # influence by hormones emitted from other neurons\n",
    "  total_receptivity: float  # summed connectivity coefficients of incoming connections\n",
    "  total_emissivity: float  # summed connectivity coefficients of outgoing connections\n",
    "  activation_progress: float  # incremented by signals\n",
    "  \n",
    "  # HIDDEN STATE (for implementation purposes only)\n",
    "  position: Tensor  # 3d global position\n",
    "  inputs: Tensor  # (MAX_CONNECTIONS x 2), each connection includes a neuron ID and a connectivity coefficient\n",
    "  outputs: Tensor  # same structure as inputs\n",
    "  \n",
    "@dataclass\n",
    "class Genome:\n",
    "  pluripotent_latent_state: Tensor  # initial latent state for the first neuron(s)\n",
    "  latent_to_parameters: nn.Module  # takes in internal state, outputs activation parameters\n",
    "  passive_transform: nn.Module  # applied continuously\n",
    "  activation_transform: nn.Module  # takes in internal state, outputs new latent state\n",
    "  # hormone_transform: nn.Module  # takes in internal state and hormone, outputs new latent state\n",
    "  hormone_emission: nn.Module  # takes in internal state, outputs hormone code and emission range\n",
    "  hormone_decay: Tensor  # values in [0, 1] that are continuously multiplied against hormone_influence\n",
    "  connectivity_coefficient: nn.Module  # takes in internal state pair and relative position (emitter and receiver and emitter to receiver), outputs receptivity of latter [0,1]\n",
    "  mitosis_results: nn.Module  # takes in internal state, outputs new latent state and daughter latent state and mitosis direction\n",
    "  \n",
    "  # MUTABILITY\n",
    "  # ... (modules of the same dimensions as genome which define the rate of genetic drift)\n",
    "  "
   ],
   "metadata": {
    "collapsed": false,
    "ExecuteTime": {
     "end_time": "2025-04-16T17:32:08.016365Z",
     "start_time": "2025-04-16T17:32:08.008882Z"
    }
   },
   "id": "4857526b9775ed0f",
   "execution_count": 24
  },
  {
   "cell_type": "code",
   "outputs": [],
   "source": [
    "from typing import SupportsIndex, Union\n",
    "# data formatting strategy for efficiency and compactness:\n",
    "# 1. slot all neuron data into a single 1d tensor, and then stack each neuron tensor.\n",
    "#    the position of a neuron tensor is its ID except for position 0, which is a dummy\n",
    "#    for computational purposes\n",
    "# 2. Genome can just live in a class\n",
    "from enum import Enum, IntEnum\n",
    "\n",
    "\n",
    "class _Properties(IntEnum):\n",
    "    ACTIVATION_THRESHOLD     = 0\n",
    "    ACTIVATION_COOLDOWN      = 1\n",
    "    SIGNAL_STRENGTH          = 2\n",
    "    LATENT_STATE             = 3\n",
    "    HORMONE_INFLUENCE        = 4\n",
    "    TOTAL_RECEPTIVITY        = 5\n",
    "    TOTAL_EMISSIVITY         = 6\n",
    "    ACTIVATION_PROGRESS      = 7\n",
    "    MITOSIS_QUALIFICATION    = 8\n",
    "    POSITION                 = 9\n",
    "    INPUTS                   = 10\n",
    "    OUTPUTS                  = 11\n",
    "\n",
    "\n",
    "_DATA_SIZES = {\n",
    "    _Properties.ACTIVATION_THRESHOLD:     1,\n",
    "    _Properties.ACTIVATION_COOLDOWN:      1,\n",
    "    _Properties.SIGNAL_STRENGTH:          1,\n",
    "    _Properties.LATENT_STATE:             24,\n",
    "    _Properties.HORMONE_INFLUENCE:        10,\n",
    "    _Properties.TOTAL_RECEPTIVITY:        1,\n",
    "    _Properties.TOTAL_EMISSIVITY:         1,\n",
    "    _Properties.ACTIVATION_PROGRESS:      1,\n",
    "    _Properties.MITOSIS_QUALIFICATION:    1,\n",
    "    _Properties.POSITION:                 3,\n",
    "    _Properties.INPUTS:                   8,\n",
    "    _Properties.OUTPUTS:                  8,\n",
    "}\n",
    "\n",
    "\n",
    "def _get_indexing(property_name: _Properties) -> Union[int, slice]:\n",
    "  property_names, property_sizes = list(_DATA_SIZES.keys()), list(_DATA_SIZES.values())\n",
    "  property_index = property_names.index(property_name)\n",
    "  property_size = property_sizes[property_index]\n",
    "  data_format_start_index = sum(property_sizes[:property_index], 0)\n",
    "  return data_format_start_index if property_size == 1 else slice(data_format_start_index, data_format_start_index + property_size)\n",
    "  \n",
    "\n",
    "class Data(Enum):\n",
    "    ACTIVATION_THRESHOLD     = _get_indexing(_Properties.ACTIVATION_THRESHOLD)\n",
    "    ACTIVATION_COOLDOWN      = _get_indexing(_Properties.ACTIVATION_COOLDOWN)\n",
    "    SIGNAL_STRENGTH          = _get_indexing(_Properties.SIGNAL_STRENGTH)\n",
    "    LATENT_STATE             = _get_indexing(_Properties.LATENT_STATE)\n",
    "    HORMONE_INFLUENCE        = _get_indexing(_Properties.HORMONE_INFLUENCE)\n",
    "    TOTAL_RECEPTIVITY        = _get_indexing(_Properties.TOTAL_RECEPTIVITY)\n",
    "    TOTAL_EMISSIVITY         = _get_indexing(_Properties.TOTAL_EMISSIVITY)\n",
    "    ACTIVATION_PROGRESS      = _get_indexing(_Properties.ACTIVATION_PROGRESS)\n",
    "    MITOSIS_QUALIFICATION    = _get_indexing(_Properties.MITOSIS_QUALIFICATION)\n",
    "    POSITION                 = _get_indexing(_Properties.POSITION)\n",
    "    INPUTS                   = _get_indexing(_Properties.INPUTS)\n",
    "    OUTPUTS                  = _get_indexing(_Properties.OUTPUTS)\n",
    "\n",
    "\n",
    "class Specimen:\n",
    "  pass\n"
   ],
   "metadata": {
    "collapsed": false,
    "ExecuteTime": {
     "end_time": "2025-04-16T17:32:08.024199Z",
     "start_time": "2025-04-16T17:32:08.017753Z"
    }
   },
   "id": "c18b8d0e54e0e90f",
   "execution_count": 25
  },
  {
   "cell_type": "code",
   "outputs": [],
   "source": [],
   "metadata": {
    "collapsed": false,
    "ExecuteTime": {
     "end_time": "2025-04-16T17:32:08.026783Z",
     "start_time": "2025-04-16T17:32:08.024199Z"
    }
   },
   "id": "50e7700508dca0f4",
   "execution_count": 25
  }
 ],
 "metadata": {
  "kernelspec": {
   "display_name": "Python 3",
   "language": "python",
   "name": "python3"
  },
  "language_info": {
   "codemirror_mode": {
    "name": "ipython",
    "version": 2
   },
   "file_extension": ".py",
   "mimetype": "text/x-python",
   "name": "python",
   "nbconvert_exporter": "python",
   "pygments_lexer": "ipython2",
   "version": "2.7.6"
  }
 },
 "nbformat": 4,
 "nbformat_minor": 5
}
